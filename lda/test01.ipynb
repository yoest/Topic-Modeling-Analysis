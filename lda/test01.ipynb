{
 "cells": [
  {
   "cell_type": "code",
   "execution_count": 46,
   "metadata": {},
   "outputs": [],
   "source": [
    "import sys\n",
    "sys.path.append(\"..\")\n",
    "\n",
    "from ris_evaluation.evaluator import Evaluator\n",
    "\n",
    "from sklearn.decomposition import LatentDirichletAllocation\n",
    "from sklearn.feature_extraction.text import CountVectorizer\n",
    "\n",
    "import pandas as pd\n",
    "\n",
    "import matplotlib.pyplot as plt\n",
    "import seaborn as sns"
   ]
  },
  {
   "cell_type": "code",
   "execution_count": 3,
   "metadata": {},
   "outputs": [],
   "source": [
    "documents_df = pd.read_csv('../datasets/data/BBC_News/documents.csv')\n",
    "documents_df = documents_df\n",
    "\n",
    "documents = documents_df['document'].tolist()\n",
    "labels = documents_df['class_name'].tolist()"
   ]
  },
  {
   "cell_type": "code",
   "execution_count": 18,
   "metadata": {},
   "outputs": [
    {
     "data": {
      "text/html": [
       "<style>#sk-container-id-6 {color: black;background-color: white;}#sk-container-id-6 pre{padding: 0;}#sk-container-id-6 div.sk-toggleable {background-color: white;}#sk-container-id-6 label.sk-toggleable__label {cursor: pointer;display: block;width: 100%;margin-bottom: 0;padding: 0.3em;box-sizing: border-box;text-align: center;}#sk-container-id-6 label.sk-toggleable__label-arrow:before {content: \"▸\";float: left;margin-right: 0.25em;color: #696969;}#sk-container-id-6 label.sk-toggleable__label-arrow:hover:before {color: black;}#sk-container-id-6 div.sk-estimator:hover label.sk-toggleable__label-arrow:before {color: black;}#sk-container-id-6 div.sk-toggleable__content {max-height: 0;max-width: 0;overflow: hidden;text-align: left;background-color: #f0f8ff;}#sk-container-id-6 div.sk-toggleable__content pre {margin: 0.2em;color: black;border-radius: 0.25em;background-color: #f0f8ff;}#sk-container-id-6 input.sk-toggleable__control:checked~div.sk-toggleable__content {max-height: 200px;max-width: 100%;overflow: auto;}#sk-container-id-6 input.sk-toggleable__control:checked~label.sk-toggleable__label-arrow:before {content: \"▾\";}#sk-container-id-6 div.sk-estimator input.sk-toggleable__control:checked~label.sk-toggleable__label {background-color: #d4ebff;}#sk-container-id-6 div.sk-label input.sk-toggleable__control:checked~label.sk-toggleable__label {background-color: #d4ebff;}#sk-container-id-6 input.sk-hidden--visually {border: 0;clip: rect(1px 1px 1px 1px);clip: rect(1px, 1px, 1px, 1px);height: 1px;margin: -1px;overflow: hidden;padding: 0;position: absolute;width: 1px;}#sk-container-id-6 div.sk-estimator {font-family: monospace;background-color: #f0f8ff;border: 1px dotted black;border-radius: 0.25em;box-sizing: border-box;margin-bottom: 0.5em;}#sk-container-id-6 div.sk-estimator:hover {background-color: #d4ebff;}#sk-container-id-6 div.sk-parallel-item::after {content: \"\";width: 100%;border-bottom: 1px solid gray;flex-grow: 1;}#sk-container-id-6 div.sk-label:hover label.sk-toggleable__label {background-color: #d4ebff;}#sk-container-id-6 div.sk-serial::before {content: \"\";position: absolute;border-left: 1px solid gray;box-sizing: border-box;top: 0;bottom: 0;left: 50%;z-index: 0;}#sk-container-id-6 div.sk-serial {display: flex;flex-direction: column;align-items: center;background-color: white;padding-right: 0.2em;padding-left: 0.2em;position: relative;}#sk-container-id-6 div.sk-item {position: relative;z-index: 1;}#sk-container-id-6 div.sk-parallel {display: flex;align-items: stretch;justify-content: center;background-color: white;position: relative;}#sk-container-id-6 div.sk-item::before, #sk-container-id-6 div.sk-parallel-item::before {content: \"\";position: absolute;border-left: 1px solid gray;box-sizing: border-box;top: 0;bottom: 0;left: 50%;z-index: -1;}#sk-container-id-6 div.sk-parallel-item {display: flex;flex-direction: column;z-index: 1;position: relative;background-color: white;}#sk-container-id-6 div.sk-parallel-item:first-child::after {align-self: flex-end;width: 50%;}#sk-container-id-6 div.sk-parallel-item:last-child::after {align-self: flex-start;width: 50%;}#sk-container-id-6 div.sk-parallel-item:only-child::after {width: 0;}#sk-container-id-6 div.sk-dashed-wrapped {border: 1px dashed gray;margin: 0 0.4em 0.5em 0.4em;box-sizing: border-box;padding-bottom: 0.4em;background-color: white;}#sk-container-id-6 div.sk-label label {font-family: monospace;font-weight: bold;display: inline-block;line-height: 1.2em;}#sk-container-id-6 div.sk-label-container {text-align: center;}#sk-container-id-6 div.sk-container {/* jupyter's `normalize.less` sets `[hidden] { display: none; }` but bootstrap.min.css set `[hidden] { display: none !important; }` so we also need the `!important` here to be able to override the default hidden behavior on the sphinx rendered scikit-learn.org. See: https://github.com/scikit-learn/scikit-learn/issues/21755 */display: inline-block !important;position: relative;}#sk-container-id-6 div.sk-text-repr-fallback {display: none;}</style><div id=\"sk-container-id-6\" class=\"sk-top-container\"><div class=\"sk-text-repr-fallback\"><pre>LatentDirichletAllocation(n_components=5, random_state=0)</pre><b>In a Jupyter environment, please rerun this cell to show the HTML representation or trust the notebook. <br />On GitHub, the HTML representation is unable to render, please try loading this page with nbviewer.org.</b></div><div class=\"sk-container\" hidden><div class=\"sk-item\"><div class=\"sk-estimator sk-toggleable\"><input class=\"sk-toggleable__control sk-hidden--visually\" id=\"sk-estimator-id-6\" type=\"checkbox\" checked><label for=\"sk-estimator-id-6\" class=\"sk-toggleable__label sk-toggleable__label-arrow\">LatentDirichletAllocation</label><div class=\"sk-toggleable__content\"><pre>LatentDirichletAllocation(n_components=5, random_state=0)</pre></div></div></div></div></div>"
      ],
      "text/plain": [
       "LatentDirichletAllocation(n_components=5, random_state=0)"
      ]
     },
     "execution_count": 18,
     "metadata": {},
     "output_type": "execute_result"
    }
   ],
   "source": [
    "vectorizer = CountVectorizer()\n",
    "X = vectorizer.fit_transform(documents)\n",
    "\n",
    "lda = LatentDirichletAllocation(n_components=len(set(labels)), random_state=0)\n",
    "lda.fit(X)"
   ]
  },
  {
   "cell_type": "code",
   "execution_count": 45,
   "metadata": {},
   "outputs": [
    {
     "data": {
      "text/html": [
       "<div>\n",
       "<style scoped>\n",
       "    .dataframe tbody tr th:only-of-type {\n",
       "        vertical-align: middle;\n",
       "    }\n",
       "\n",
       "    .dataframe tbody tr th {\n",
       "        vertical-align: top;\n",
       "    }\n",
       "\n",
       "    .dataframe thead th {\n",
       "        text-align: right;\n",
       "    }\n",
       "</style>\n",
       "<table border=\"1\" class=\"dataframe\">\n",
       "  <thead>\n",
       "    <tr style=\"text-align: right;\">\n",
       "      <th></th>\n",
       "      <th>document</th>\n",
       "      <th>y_true</th>\n",
       "      <th>y_pred</th>\n",
       "      <th>y_pred_highest_proba</th>\n",
       "    </tr>\n",
       "  </thead>\n",
       "  <tbody>\n",
       "    <tr>\n",
       "      <th>0</th>\n",
       "      <td>hit shelf combine medium player phone gaming g...</td>\n",
       "      <td>tech</td>\n",
       "      <td>2</td>\n",
       "      <td>0.910652</td>\n",
       "    </tr>\n",
       "    <tr>\n",
       "      <th>1</th>\n",
       "      <td>bid hope join host apply host tournament aim r...</td>\n",
       "      <td>sport</td>\n",
       "      <td>1</td>\n",
       "      <td>0.818584</td>\n",
       "    </tr>\n",
       "    <tr>\n",
       "      <th>2</th>\n",
       "      <td>lord wrong detainee straw straw attack decisio...</td>\n",
       "      <td>politics</td>\n",
       "      <td>3</td>\n",
       "      <td>0.758257</td>\n",
       "    </tr>\n",
       "    <tr>\n",
       "      <th>3</th>\n",
       "      <td>leak answer minister explain budget detail pri...</td>\n",
       "      <td>politics</td>\n",
       "      <td>0</td>\n",
       "      <td>0.571255</td>\n",
       "    </tr>\n",
       "    <tr>\n",
       "      <th>4</th>\n",
       "      <td>delight manager pay tribute goal striker beat ...</td>\n",
       "      <td>sport</td>\n",
       "      <td>1</td>\n",
       "      <td>0.977416</td>\n",
       "    </tr>\n",
       "    <tr>\n",
       "      <th>...</th>\n",
       "      <td>...</td>\n",
       "      <td>...</td>\n",
       "      <td>...</td>\n",
       "      <td>...</td>\n",
       "    </tr>\n",
       "    <tr>\n",
       "      <th>2220</th>\n",
       "      <td>rock clean steer clear bad language front awar...</td>\n",
       "      <td>entertainment</td>\n",
       "      <td>2</td>\n",
       "      <td>0.884496</td>\n",
       "    </tr>\n",
       "    <tr>\n",
       "      <th>2221</th>\n",
       "      <td>comedy meet sequel meet parent top week movie ...</td>\n",
       "      <td>entertainment</td>\n",
       "      <td>2</td>\n",
       "      <td>0.939132</td>\n",
       "    </tr>\n",
       "    <tr>\n",
       "      <th>2222</th>\n",
       "      <td>join rare group actress nominate oscar star fo...</td>\n",
       "      <td>entertainment</td>\n",
       "      <td>2</td>\n",
       "      <td>0.878861</td>\n",
       "    </tr>\n",
       "    <tr>\n",
       "      <th>2223</th>\n",
       "      <td>police chief back move chief back introduction...</td>\n",
       "      <td>politics</td>\n",
       "      <td>0</td>\n",
       "      <td>0.878932</td>\n",
       "    </tr>\n",
       "    <tr>\n",
       "      <th>2224</th>\n",
       "      <td>answer call grant extra decide compete world c...</td>\n",
       "      <td>sport</td>\n",
       "      <td>1</td>\n",
       "      <td>0.875789</td>\n",
       "    </tr>\n",
       "  </tbody>\n",
       "</table>\n",
       "<p>2225 rows × 4 columns</p>\n",
       "</div>"
      ],
      "text/plain": [
       "                                               document         y_true  \\\n",
       "0     hit shelf combine medium player phone gaming g...           tech   \n",
       "1     bid hope join host apply host tournament aim r...          sport   \n",
       "2     lord wrong detainee straw straw attack decisio...       politics   \n",
       "3     leak answer minister explain budget detail pri...       politics   \n",
       "4     delight manager pay tribute goal striker beat ...          sport   \n",
       "...                                                 ...            ...   \n",
       "2220  rock clean steer clear bad language front awar...  entertainment   \n",
       "2221  comedy meet sequel meet parent top week movie ...  entertainment   \n",
       "2222  join rare group actress nominate oscar star fo...  entertainment   \n",
       "2223  police chief back move chief back introduction...       politics   \n",
       "2224  answer call grant extra decide compete world c...          sport   \n",
       "\n",
       "      y_pred  y_pred_highest_proba  \n",
       "0          2              0.910652  \n",
       "1          1              0.818584  \n",
       "2          3              0.758257  \n",
       "3          0              0.571255  \n",
       "4          1              0.977416  \n",
       "...      ...                   ...  \n",
       "2220       2              0.884496  \n",
       "2221       2              0.939132  \n",
       "2222       2              0.878861  \n",
       "2223       0              0.878932  \n",
       "2224       1              0.875789  \n",
       "\n",
       "[2225 rows x 4 columns]"
      ]
     },
     "execution_count": 45,
     "metadata": {},
     "output_type": "execute_result"
    }
   ],
   "source": [
    "results_df = pd.DataFrame()\n",
    "results_df['document'] = documents\n",
    "results_df['y_true'] = documents_df['class_name'].tolist()\n",
    "results_df['y_pred'] = lda.transform(X).argmax(axis=1)\n",
    "results_df['y_pred_highest_proba'] = lda.transform(X).max(axis=1)\n",
    "\n",
    "results_df"
   ]
  },
  {
   "cell_type": "code",
   "execution_count": 35,
   "metadata": {},
   "outputs": [],
   "source": [
    "def get_words_for_topics(topics):\n",
    "    words_by_topics = {}\n",
    "    for idx, topic in enumerate(topics):\n",
    "        words = documents_df.iloc[idx]['document'].split()\n",
    "\n",
    "        if topic not in words_by_topics:\n",
    "            words_by_topics[topic] = {}\n",
    "\n",
    "        for word in words:\n",
    "            if word not in words_by_topics[topic]:\n",
    "                words_by_topics[topic][word] = 0\n",
    "\n",
    "            words_by_topics[topic][word] += 1\n",
    "\n",
    "    return words_by_topics"
   ]
  },
  {
   "cell_type": "code",
   "execution_count": 33,
   "metadata": {},
   "outputs": [],
   "source": [
    "def get_output(lda_model, vectorizer_model):\n",
    "    topics = []\n",
    "    for topic in lda_model.components_:\n",
    "        topic_words = []\n",
    "        for i in topic.argsort()[-10:]:\n",
    "            topic_words.append(vectorizer_model.get_feature_names_out()[i])\n",
    "        topics.append(topic_words)\n",
    "\n",
    "    return {\n",
    "        \"topics\": topics,\n",
    "        \"topic-document-matrix\": None,\n",
    "        \"topic-word-matrix\": None,\n",
    "        \"test-topic-document-matrix\": None\n",
    "    }"
   ]
  },
  {
   "cell_type": "code",
   "execution_count": 36,
   "metadata": {},
   "outputs": [],
   "source": [
    "model_output = get_output(lda, vectorizer)\n",
    "evaluator = Evaluator(model_output)\n",
    "\n",
    "words_by_extracted_topics = get_words_for_topics(results_df['y_pred'].tolist())\n",
    "words_by_class = get_words_for_topics(results_df['y_true'].tolist())"
   ]
  },
  {
   "cell_type": "code",
   "execution_count": 42,
   "metadata": {},
   "outputs": [
    {
     "data": {
      "text/html": [
       "<div>\n",
       "<style scoped>\n",
       "    .dataframe tbody tr th:only-of-type {\n",
       "        vertical-align: middle;\n",
       "    }\n",
       "\n",
       "    .dataframe tbody tr th {\n",
       "        vertical-align: top;\n",
       "    }\n",
       "\n",
       "    .dataframe thead th {\n",
       "        text-align: right;\n",
       "    }\n",
       "</style>\n",
       "<table border=\"1\" class=\"dataframe\">\n",
       "  <thead>\n",
       "    <tr style=\"text-align: right;\">\n",
       "      <th></th>\n",
       "      <th>Coherence (c_v)</th>\n",
       "      <th>Coherence (c_uci)</th>\n",
       "      <th>Coherence (c_npmi)</th>\n",
       "      <th>Coherence (u_mass)</th>\n",
       "      <th>Diversity</th>\n",
       "      <th>Supervised correlation</th>\n",
       "    </tr>\n",
       "  </thead>\n",
       "  <tbody>\n",
       "    <tr>\n",
       "      <th>0</th>\n",
       "      <td>0.465131</td>\n",
       "      <td>-0.154971</td>\n",
       "      <td>0.023076</td>\n",
       "      <td>-2.344902</td>\n",
       "      <td>0.94</td>\n",
       "      <td>0.739535</td>\n",
       "    </tr>\n",
       "  </tbody>\n",
       "</table>\n",
       "</div>"
      ],
      "text/plain": [
       "   Coherence (c_v)  Coherence (c_uci)  Coherence (c_npmi)  Coherence (u_mass)  \\\n",
       "0         0.465131          -0.154971            0.023076           -2.344902   \n",
       "\n",
       "   Diversity  Supervised correlation  \n",
       "0       0.94                0.739535  "
      ]
     },
     "execution_count": 42,
     "metadata": {},
     "output_type": "execute_result"
    }
   ],
   "source": [
    "coherence = evaluator.compute_coherence()\n",
    "diversity = evaluator.compute_diversity()\n",
    "supervised_correlation = evaluator.compute_supervised_correlation(words_by_extracted_topics, words_by_class)\n",
    "\n",
    "metrics_df = pd.DataFrame()\n",
    "\n",
    "for coherence_type, coherence_value in coherence.items():\n",
    "    metrics_df[f'Coherence ({coherence_type})'] = [coherence_value]\n",
    "metrics_df['Diversity'] = [diversity]\n",
    "metrics_df['Supervised correlation'] = [supervised_correlation]\n",
    "metrics_df"
   ]
  },
  {
   "cell_type": "code",
   "execution_count": 50,
   "metadata": {},
   "outputs": [
    {
     "data": {
      "text/plain": [
       "<Axes: xlabel='y_true', ylabel='y_pred_highest_proba'>"
      ]
     },
     "execution_count": 50,
     "metadata": {},
     "output_type": "execute_result"
    },
    {
     "data": {
      "image/png": "[encoded data removed]",
      "text/plain": [
       "<Figure size 1000x500 with 1 Axes>"
      ]
     },
     "metadata": {},
     "output_type": "display_data"
    }
   ],
   "source": [
    "plt.figure(figsize=(10, 5))\n",
    "\n",
    "sns.barplot(data=results_df, x='y_true', y='y_pred_highest_proba', errorbar=None)"
   ]
  }
 ],
 "metadata": {
  "kernelspec": {
   "display_name": "nlp",
   "language": "python",
   "name": "python3"
  },
  "language_info": {
   "codemirror_mode": {
    "name": "ipython",
    "version": 3
   },
   "file_extension": ".py",
   "mimetype": "text/x-python",
   "name": "python",
   "nbconvert_exporter": "python",
   "pygments_lexer": "ipython3",
   "version": "3.9.18"
  },
  "orig_nbformat": 4
 },
 "nbformat": 4,
 "nbformat_minor": 2
}
