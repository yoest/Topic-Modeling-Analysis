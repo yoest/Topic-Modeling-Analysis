{
 "cells": [
  {
   "cell_type": "code",
   "execution_count": 1,
   "metadata": {},
   "outputs": [],
   "source": [
    "from lbl2vecv2 import Lbl2VecV2, Dataset"
   ]
  },
  {
   "cell_type": "code",
   "execution_count": 2,
   "metadata": {},
   "outputs": [
    {
     "name": "stdout",
     "output_type": "stream",
     "text": [
      "[INFO] Processing class: tech...\n",
      "[INFO] Processing class: sport...\n",
      "[INFO] Processing class: politics...\n",
      "[INFO] Processing class: business...\n",
      "[INFO] Processing class: entertainment...\n"
     ]
    }
   ],
   "source": [
    "dataset = Dataset(path='../datasets/BBC_News/dataset.csv')\n",
    "dataset.load()"
   ]
  },
  {
   "cell_type": "code",
   "execution_count": 3,
   "metadata": {},
   "outputs": [
    {
     "name": "stderr",
     "output_type": "stream",
     "text": [
      "2023-10-02 16:02:06,040 - Lbl2Vec - INFO - Train document and word embeddings\n",
      "2023-10-02 16:02:10,574 - Lbl2Vec - INFO - Train label embeddings\n"
     ]
    }
   ],
   "source": [
    "model = Lbl2VecV2(dataset=dataset)\n",
    "model.fit()"
   ]
  },
  {
   "cell_type": "code",
   "execution_count": 4,
   "metadata": {},
   "outputs": [
    {
     "name": "stderr",
     "output_type": "stream",
     "text": [
      "2023-10-02 16:02:10,601 - Lbl2Vec - INFO - Get document embeddings from model\n",
      "2023-10-02 16:02:10,604 - Lbl2Vec - INFO - Calculate document<->label similarities\n",
      "2023-10-02 16:02:13,061 - Lbl2Vec - INFO - Calculate document embeddings\n",
      "2023-10-02 16:02:13,547 - Lbl2Vec - INFO - Calculate document<->label similarities\n",
      "2023-10-02 16:02:14,118 - Lbl2Vec - INFO - Get document embeddings from model\n",
      "2023-10-02 16:02:14,121 - Lbl2Vec - INFO - Calculate document<->label similarities\n",
      "2023-10-02 16:02:16,702 - Lbl2Vec - INFO - Calculate document embeddings\n",
      "2023-10-02 16:02:17,201 - Lbl2Vec - INFO - Calculate document<->label similarities\n",
      "2023-10-02 16:02:17,778 - Lbl2Vec - INFO - Get document embeddings from model\n",
      "2023-10-02 16:02:17,780 - Lbl2Vec - INFO - Calculate document<->label similarities\n",
      "2023-10-02 16:02:20,144 - Lbl2Vec - INFO - Calculate document embeddings\n",
      "2023-10-02 16:02:20,645 - Lbl2Vec - INFO - Calculate document<->label similarities\n",
      "2023-10-02 16:02:21,223 - Lbl2Vec - INFO - Get document embeddings from model\n",
      "2023-10-02 16:02:21,226 - Lbl2Vec - INFO - Calculate document<->label similarities\n",
      "2023-10-02 16:02:23,703 - Lbl2Vec - INFO - Calculate document embeddings\n",
      "2023-10-02 16:02:24,192 - Lbl2Vec - INFO - Calculate document<->label similarities\n",
      "2023-10-02 16:02:24,760 - Lbl2Vec - INFO - Get document embeddings from model\n",
      "2023-10-02 16:02:24,763 - Lbl2Vec - INFO - Calculate document<->label similarities\n",
      "2023-10-02 16:02:27,135 - Lbl2Vec - INFO - Calculate document embeddings\n",
      "2023-10-02 16:02:27,636 - Lbl2Vec - INFO - Calculate document<->label similarities\n"
     ]
    },
    {
     "data": {
      "text/plain": [
       "(0.7870786516853933, 0.7802247191011236)"
      ]
     },
     "execution_count": 4,
     "metadata": {},
     "output_type": "execute_result"
    }
   ],
   "source": [
    "model.evaluate()"
   ]
  }
 ],
 "metadata": {
  "kernelspec": {
   "display_name": "nlp",
   "language": "python",
   "name": "python3"
  },
  "language_info": {
   "codemirror_mode": {
    "name": "ipython",
    "version": 3
   },
   "file_extension": ".py",
   "mimetype": "text/x-python",
   "name": "python",
   "nbconvert_exporter": "python",
   "pygments_lexer": "ipython3",
   "version": "3.9.18"
  },
  "orig_nbformat": 4
 },
 "nbformat": 4,
 "nbformat_minor": 2
}
