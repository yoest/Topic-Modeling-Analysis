{
 "cells": [
  {
   "cell_type": "markdown",
   "metadata": {},
   "source": [
    "# Lbl2Vec"
   ]
  },
  {
   "cell_type": "markdown",
   "metadata": {},
   "source": [
    "The main goal of this notebook is to classify each document into defined topics/classes using the algorithm Lbl2Vec (https://towardsdatascience.com/unsupervised-text-classification-with-lbl2vec-6c5e040354de)."
   ]
  },
  {
   "cell_type": "code",
   "execution_count": 54,
   "metadata": {},
   "outputs": [],
   "source": [
    "import pandas as pd\n",
    "import seaborn as sns\n",
    "import matplotlib.pyplot as plt\n",
    "import numpy as np\n",
    "\n",
    "from lbl2vec import Lbl2Vec\n",
    "from gensim.models.doc2vec import TaggedDocument, Doc2Vec\n",
    "from sklearn.metrics import f1_score\n",
    "\n",
    "from sklearn.feature_extraction.text import TfidfVectorizer\n",
    "from gensim.utils import simple_preprocess\n",
    "from gensim.parsing.preprocessing import strip_tags\n",
    "\n",
    "import spacy"
   ]
  },
  {
   "cell_type": "markdown",
   "metadata": {},
   "source": [
    "# -- Data"
   ]
  },
  {
   "cell_type": "markdown",
   "metadata": {},
   "source": [
    "## Documents"
   ]
  },
  {
   "cell_type": "code",
   "execution_count": 2,
   "metadata": {},
   "outputs": [
    {
     "data": {
      "text/html": [
       "<div>\n",
       "<style scoped>\n",
       "    .dataframe tbody tr th:only-of-type {\n",
       "        vertical-align: middle;\n",
       "    }\n",
       "\n",
       "    .dataframe tbody tr th {\n",
       "        vertical-align: top;\n",
       "    }\n",
       "\n",
       "    .dataframe thead th {\n",
       "        text-align: right;\n",
       "    }\n",
       "</style>\n",
       "<table border=\"1\" class=\"dataframe\">\n",
       "  <thead>\n",
       "    <tr style=\"text-align: right;\">\n",
       "      <th></th>\n",
       "      <th>document</th>\n",
       "      <th>class_name</th>\n",
       "      <th>class_index</th>\n",
       "      <th>dataset_type</th>\n",
       "    </tr>\n",
       "  </thead>\n",
       "  <tbody>\n",
       "    <tr>\n",
       "      <th>0</th>\n",
       "      <td>hit shelf combine medium player phone gaming g...</td>\n",
       "      <td>tech</td>\n",
       "      <td>0</td>\n",
       "      <td>train</td>\n",
       "    </tr>\n",
       "    <tr>\n",
       "      <th>1</th>\n",
       "      <td>bid hope join host apply host tournament aim r...</td>\n",
       "      <td>sport</td>\n",
       "      <td>4</td>\n",
       "      <td>train</td>\n",
       "    </tr>\n",
       "    <tr>\n",
       "      <th>2</th>\n",
       "      <td>lord wrong detainee straw straw attack decisio...</td>\n",
       "      <td>politics</td>\n",
       "      <td>1</td>\n",
       "      <td>train</td>\n",
       "    </tr>\n",
       "    <tr>\n",
       "      <th>3</th>\n",
       "      <td>leak answer minister explain budget detail pri...</td>\n",
       "      <td>politics</td>\n",
       "      <td>1</td>\n",
       "      <td>train</td>\n",
       "    </tr>\n",
       "    <tr>\n",
       "      <th>4</th>\n",
       "      <td>delight manager pay tribute goal striker beat ...</td>\n",
       "      <td>sport</td>\n",
       "      <td>4</td>\n",
       "      <td>train</td>\n",
       "    </tr>\n",
       "  </tbody>\n",
       "</table>\n",
       "</div>"
      ],
      "text/plain": [
       "                                            document class_name  class_index  \\\n",
       "0  hit shelf combine medium player phone gaming g...       tech            0   \n",
       "1  bid hope join host apply host tournament aim r...      sport            4   \n",
       "2  lord wrong detainee straw straw attack decisio...   politics            1   \n",
       "3  leak answer minister explain budget detail pri...   politics            1   \n",
       "4  delight manager pay tribute goal striker beat ...      sport            4   \n",
       "\n",
       "  dataset_type  \n",
       "0        train  \n",
       "1        train  \n",
       "2        train  \n",
       "3        train  \n",
       "4        train  "
      ]
     },
     "execution_count": 2,
     "metadata": {},
     "output_type": "execute_result"
    }
   ],
   "source": [
    "bbc_news_df = pd.read_csv('../../datasets/BBC_News/dataset.csv')\n",
    "bbc_news_df.head()"
   ]
  },
  {
   "cell_type": "code",
   "execution_count": 3,
   "metadata": {},
   "outputs": [],
   "source": [
    "def tokenize(doc):\n",
    "    return simple_preprocess(strip_tags(doc), deacc=True, min_len=2, max_len=15)"
   ]
  },
  {
   "cell_type": "code",
   "execution_count": 4,
   "metadata": {},
   "outputs": [
    {
     "data": {
      "text/html": [
       "<div>\n",
       "<style scoped>\n",
       "    .dataframe tbody tr th:only-of-type {\n",
       "        vertical-align: middle;\n",
       "    }\n",
       "\n",
       "    .dataframe tbody tr th {\n",
       "        vertical-align: top;\n",
       "    }\n",
       "\n",
       "    .dataframe thead th {\n",
       "        text-align: right;\n",
       "    }\n",
       "</style>\n",
       "<table border=\"1\" class=\"dataframe\">\n",
       "  <thead>\n",
       "    <tr style=\"text-align: right;\">\n",
       "      <th></th>\n",
       "      <th>document</th>\n",
       "      <th>class_name</th>\n",
       "      <th>class_index</th>\n",
       "      <th>dataset_type</th>\n",
       "      <th>tagged_docs</th>\n",
       "      <th>doc_key</th>\n",
       "    </tr>\n",
       "  </thead>\n",
       "  <tbody>\n",
       "    <tr>\n",
       "      <th>0</th>\n",
       "      <td>hit shelf combine medium player phone gaming g...</td>\n",
       "      <td>tech</td>\n",
       "      <td>0</td>\n",
       "      <td>train</td>\n",
       "      <td>([hit, shelf, combine, medium, player, phone, ...</td>\n",
       "      <td>0</td>\n",
       "    </tr>\n",
       "    <tr>\n",
       "      <th>1</th>\n",
       "      <td>bid hope join host apply host tournament aim r...</td>\n",
       "      <td>sport</td>\n",
       "      <td>4</td>\n",
       "      <td>train</td>\n",
       "      <td>([bid, hope, join, host, apply, host, tourname...</td>\n",
       "      <td>1</td>\n",
       "    </tr>\n",
       "    <tr>\n",
       "      <th>2</th>\n",
       "      <td>lord wrong detainee straw straw attack decisio...</td>\n",
       "      <td>politics</td>\n",
       "      <td>1</td>\n",
       "      <td>train</td>\n",
       "      <td>([lord, wrong, detainee, straw, straw, attack,...</td>\n",
       "      <td>2</td>\n",
       "    </tr>\n",
       "    <tr>\n",
       "      <th>3</th>\n",
       "      <td>leak answer minister explain budget detail pri...</td>\n",
       "      <td>politics</td>\n",
       "      <td>1</td>\n",
       "      <td>train</td>\n",
       "      <td>([leak, answer, minister, explain, budget, det...</td>\n",
       "      <td>3</td>\n",
       "    </tr>\n",
       "    <tr>\n",
       "      <th>4</th>\n",
       "      <td>delight manager pay tribute goal striker beat ...</td>\n",
       "      <td>sport</td>\n",
       "      <td>4</td>\n",
       "      <td>train</td>\n",
       "      <td>([delight, manager, pay, tribute, goal, strike...</td>\n",
       "      <td>4</td>\n",
       "    </tr>\n",
       "  </tbody>\n",
       "</table>\n",
       "</div>"
      ],
      "text/plain": [
       "                                            document class_name  class_index  \\\n",
       "0  hit shelf combine medium player phone gaming g...       tech            0   \n",
       "1  bid hope join host apply host tournament aim r...      sport            4   \n",
       "2  lord wrong detainee straw straw attack decisio...   politics            1   \n",
       "3  leak answer minister explain budget detail pri...   politics            1   \n",
       "4  delight manager pay tribute goal striker beat ...      sport            4   \n",
       "\n",
       "  dataset_type                                        tagged_docs doc_key  \n",
       "0        train  ([hit, shelf, combine, medium, player, phone, ...       0  \n",
       "1        train  ([bid, hope, join, host, apply, host, tourname...       1  \n",
       "2        train  ([lord, wrong, detainee, straw, straw, attack,...       2  \n",
       "3        train  ([leak, answer, minister, explain, budget, det...       3  \n",
       "4        train  ([delight, manager, pay, tribute, goal, strike...       4  "
      ]
     },
     "execution_count": 4,
     "metadata": {},
     "output_type": "execute_result"
    }
   ],
   "source": [
    "bbc_news_df['tagged_docs'] = bbc_news_df.apply(\n",
    "    lambda row: TaggedDocument(tokenize(row['document']), [str(row.name)])\n",
    "    , axis=1)\n",
    "bbc_news_df['doc_key'] = bbc_news_df.index.astype(str)\n",
    "bbc_news_df.head()"
   ]
  },
  {
   "cell_type": "markdown",
   "metadata": {},
   "source": [
    "## Classes"
   ]
  },
  {
   "cell_type": "code",
   "execution_count": 5,
   "metadata": {},
   "outputs": [],
   "source": [
    "def get_predefined_keywords(df, k):\n",
    "    keywords = {}\n",
    "    classes = df['class_name'].unique()\n",
    "\n",
    "    for c in classes:\n",
    "        documents_for_class = df[df['class_name'] == c]\n",
    "\n",
    "        vectorizer = TfidfVectorizer()\n",
    "        X = vectorizer.fit_transform(documents_for_class['document'])\n",
    "\n",
    "        top_k_words = pd.DataFrame(\n",
    "            data=X.toarray(), columns=vectorizer.get_feature_names_out()\n",
    "        ).sum().sort_values(ascending=False).head(k).index.tolist()\n",
    "\n",
    "        keywords[c] = top_k_words\n",
    "    \n",
    "    return keywords"
   ]
  },
  {
   "cell_type": "code",
   "execution_count": 6,
   "metadata": {},
   "outputs": [],
   "source": [
    "N_KEYWORDS = 10\n",
    "PREDEFINED_KEYWORDS = get_predefined_keywords(bbc_news_df, N_KEYWORDS)"
   ]
  },
  {
   "cell_type": "code",
   "execution_count": 7,
   "metadata": {},
   "outputs": [
    {
     "data": {
      "text/html": [
       "<div>\n",
       "<style scoped>\n",
       "    .dataframe tbody tr th:only-of-type {\n",
       "        vertical-align: middle;\n",
       "    }\n",
       "\n",
       "    .dataframe tbody tr th {\n",
       "        vertical-align: top;\n",
       "    }\n",
       "\n",
       "    .dataframe thead th {\n",
       "        text-align: right;\n",
       "    }\n",
       "</style>\n",
       "<table border=\"1\" class=\"dataframe\">\n",
       "  <thead>\n",
       "    <tr style=\"text-align: right;\">\n",
       "      <th></th>\n",
       "      <th>class_index</th>\n",
       "      <th>class_name</th>\n",
       "      <th>keywords</th>\n",
       "      <th>number_of_keywords</th>\n",
       "    </tr>\n",
       "  </thead>\n",
       "  <tbody>\n",
       "    <tr>\n",
       "      <th>0</th>\n",
       "      <td>0</td>\n",
       "      <td>tech</td>\n",
       "      <td>[game, phone, mobile, service, technology, use...</td>\n",
       "      <td>10</td>\n",
       "    </tr>\n",
       "    <tr>\n",
       "      <th>1</th>\n",
       "      <td>4</td>\n",
       "      <td>sport</td>\n",
       "      <td>[win, play, game, player, good, match, team, f...</td>\n",
       "      <td>10</td>\n",
       "    </tr>\n",
       "    <tr>\n",
       "      <th>2</th>\n",
       "      <td>1</td>\n",
       "      <td>politics</td>\n",
       "      <td>[election, party, labour, government, tory, pl...</td>\n",
       "      <td>10</td>\n",
       "    </tr>\n",
       "    <tr>\n",
       "      <th>3</th>\n",
       "      <td>3</td>\n",
       "      <td>business</td>\n",
       "      <td>[company, firm, sale, rise, share, market, gro...</td>\n",
       "      <td>10</td>\n",
       "    </tr>\n",
       "    <tr>\n",
       "      <th>4</th>\n",
       "      <td>2</td>\n",
       "      <td>entertainment</td>\n",
       "      <td>[film, good, award, show, win, music, star, in...</td>\n",
       "      <td>10</td>\n",
       "    </tr>\n",
       "  </tbody>\n",
       "</table>\n",
       "</div>"
      ],
      "text/plain": [
       "   class_index     class_name  \\\n",
       "0            0           tech   \n",
       "1            4          sport   \n",
       "2            1       politics   \n",
       "3            3       business   \n",
       "4            2  entertainment   \n",
       "\n",
       "                                            keywords  number_of_keywords  \n",
       "0  [game, phone, mobile, service, technology, use...                  10  \n",
       "1  [win, play, game, player, good, match, team, f...                  10  \n",
       "2  [election, party, labour, government, tory, pl...                  10  \n",
       "3  [company, firm, sale, rise, share, market, gro...                  10  \n",
       "4  [film, good, award, show, win, music, star, in...                  10  "
      ]
     },
     "execution_count": 7,
     "metadata": {},
     "output_type": "execute_result"
    }
   ],
   "source": [
    "class_df = pd.DataFrame()\n",
    "class_df['class_index'] = bbc_news_df['class_index'].unique()\n",
    "class_df['class_name'] = class_df['class_index'].apply(\n",
    "    lambda class_index: bbc_news_df[bbc_news_df['class_index'] == class_index]['class_name'].unique()[0]\n",
    ")\n",
    "class_df['keywords'] = class_df['class_name'].apply(\n",
    "    lambda class_name: PREDEFINED_KEYWORDS[class_name]\n",
    ")\n",
    "class_df['number_of_keywords'] = class_df['keywords'].apply(lambda keywords: len(keywords))\n",
    "class_df.head()"
   ]
  },
  {
   "cell_type": "markdown",
   "metadata": {},
   "source": [
    "# -- Model"
   ]
  },
  {
   "cell_type": "code",
   "execution_count": 8,
   "metadata": {},
   "outputs": [
    {
     "name": "stderr",
     "output_type": "stream",
     "text": [
      "2023-09-27 11:23:44,079 - Lbl2Vec - INFO - Train document and word embeddings\n",
      "2023-09-27 11:23:46,354 - Lbl2Vec - INFO - Train label embeddings\n"
     ]
    }
   ],
   "source": [
    "lbl2vec_model = Lbl2Vec(\n",
    "    keywords_list=list(class_df['keywords']), \n",
    "    tagged_documents=bbc_news_df['tagged_docs'][bbc_news_df['dataset_type'] == 'train'], \n",
    "    label_names=list(class_df['class_name']),\n",
    ")\n",
    "lbl2vec_model.fit()"
   ]
  },
  {
   "cell_type": "markdown",
   "metadata": {},
   "source": [
    "# -- Evaluation"
   ]
  },
  {
   "cell_type": "code",
   "execution_count": 9,
   "metadata": {},
   "outputs": [
    {
     "name": "stderr",
     "output_type": "stream",
     "text": [
      "2023-09-27 11:23:46,384 - Lbl2Vec - INFO - Get document embeddings from model\n",
      "2023-09-27 11:23:46,388 - Lbl2Vec - INFO - Calculate document<->label similarities\n",
      "2023-09-27 11:23:48,788 - Lbl2Vec - INFO - Calculate document embeddings\n",
      "2023-09-27 11:23:49,055 - Lbl2Vec - INFO - Calculate document<->label similarities\n"
     ]
    }
   ],
   "source": [
    "train_docs_lbl_similarities = lbl2vec_model.predict_model_docs()\n",
    "test_docs_lbl_similarities = lbl2vec_model.predict_new_docs(tagged_docs=bbc_news_df['tagged_docs'][bbc_news_df['dataset_type'] == 'test'])"
   ]
  },
  {
   "cell_type": "code",
   "execution_count": 10,
   "metadata": {},
   "outputs": [
    {
     "name": "stdout",
     "output_type": "stream",
     "text": [
      "F1 score on train set: 0.8651685393258428\n",
      "F1 score on test set: 0.9056179775280899\n"
     ]
    }
   ],
   "source": [
    "evaluation_train = train_docs_lbl_similarities.merge(bbc_news_df[bbc_news_df['dataset_type']=='train'], left_on='doc_key', right_on='doc_key')\n",
    "evaluation_test = test_docs_lbl_similarities.merge(bbc_news_df[bbc_news_df['dataset_type']=='test'], left_on='doc_key', right_on='doc_key')\n",
    "\n",
    "y_true_train = evaluation_train['class_name']\n",
    "y_pred_train = evaluation_train['most_similar_label']\n",
    "\n",
    "y_true_test = evaluation_test['class_name']\n",
    "y_pred_test = evaluation_test['most_similar_label']\n",
    "\n",
    "print(f'F1 score on train set: {f1_score(y_true_train, y_pred_train, average=\"micro\")}')\n",
    "print(f'F1 score on test set: {f1_score(y_true_test, y_pred_test, average=\"micro\")}')"
   ]
  },
  {
   "cell_type": "markdown",
   "metadata": {},
   "source": [
    "The model seems to be random and the results change one iteration after another."
   ]
  },
  {
   "cell_type": "code",
   "execution_count": 11,
   "metadata": {},
   "outputs": [
    {
     "data": {
      "text/plain": [
       "Text(0.5, 0.98, 'F1 score by class')"
      ]
     },
     "execution_count": 11,
     "metadata": {},
     "output_type": "execute_result"
    },
    {
     "data": {
      "image/png": "[encoded data removed]",
      "text/plain": [
       "<Figure size 1101.99x500 with 1 Axes>"
      ]
     },
     "metadata": {},
     "output_type": "display_data"
    }
   ],
   "source": [
    "f1_scores_train = f1_score(y_true_train, y_pred_train, average=None)\n",
    "f1_scores_test = f1_score(y_true_test, y_pred_test, average=None)\n",
    "\n",
    "f1_scores_df = pd.DataFrame({'train': f1_scores_train, 'test': f1_scores_test})\n",
    "f1_scores_df['class'] = f1_scores_df.index\n",
    "f1_scores_df = f1_scores_df.melt(id_vars=['class'], var_name='dataset_type', value_name='f1_score')\n",
    "\n",
    "fig = sns.catplot(data=f1_scores_df, x='class', y='f1_score', hue='dataset_type', kind='bar', height=5, aspect=2)\n",
    "fig.set(xlabel='Class', ylabel='F1 score')\n",
    "fig.fig.suptitle('F1 score by class')"
   ]
  },
  {
   "cell_type": "markdown",
   "metadata": {},
   "source": [
    "- We can see that the model perform really well, and the more we add keywords the higher the F1 scores are + train and test are closer.\n",
    "- There seems to be a limitation on the performance of the model, as the number of keywords becomes higher, the F1 scores decreases.\n",
    "\n",
    "> **Problem:**\n",
    ">\n",
    "> Here we know the keywords for each classes. How to extract keywords in an unsupervised way without knowing the classes ?"
   ]
  },
  {
   "cell_type": "markdown",
   "metadata": {},
   "source": [
    "# -- Keywords analysis"
   ]
  },
  {
   "cell_type": "code",
   "execution_count": 58,
   "metadata": {},
   "outputs": [],
   "source": [
    "def train_and_eval(keywords: dict, n_iterations: int = 1):\n",
    "    \"\"\" Train and evaluate the model with the given keyword and number of iterations. \n",
    "        The number of iteration can be used to reduce the randomness of the model.\n",
    "    \"\"\"\n",
    "    # Create a dataframe with the most similar label for each document\n",
    "    class_df = pd.DataFrame()\n",
    "    class_df['class_index'] = bbc_news_df['class_index'].unique()\n",
    "    class_df['class_name'] = class_df['class_index'].apply(\n",
    "        lambda class_index: bbc_news_df[bbc_news_df['class_index'] == class_index]['class_name'].unique()[0]\n",
    "    )\n",
    "    class_df['keywords'] = class_df['class_name'].apply(\n",
    "        lambda class_name: keywords[class_name]\n",
    "    )\n",
    "    class_df['number_of_keywords'] = class_df['keywords'].apply(lambda keywords: len(keywords))\n",
    "    class_df.head()\n",
    "\n",
    "    f1_train_scores = []\n",
    "    f1_test_scores = []\n",
    "\n",
    "    for iter in range(n_iterations):\n",
    "        lbl2vec_model = Lbl2Vec(\n",
    "            keywords_list=list(class_df['keywords']), \n",
    "            tagged_documents=bbc_news_df['tagged_docs'][bbc_news_df['dataset_type'] == 'train'], \n",
    "            label_names=list(class_df['class_name']),\n",
    "            min_count=2,\n",
    "            verbose=False\n",
    "        )\n",
    "        lbl2vec_model.fit()\n",
    "\n",
    "        # Evaluate the model\n",
    "        train_docs_lbl_similarities = lbl2vec_model.predict_model_docs()\n",
    "        test_docs_lbl_similarities = lbl2vec_model.predict_new_docs(tagged_docs=bbc_news_df['tagged_docs'][bbc_news_df['dataset_type'] == 'test'])\n",
    "\n",
    "        evaluation_train = train_docs_lbl_similarities.merge(bbc_news_df[bbc_news_df['dataset_type']=='train'], left_on='doc_key', right_on='doc_key')\n",
    "        evaluation_test = test_docs_lbl_similarities.merge(bbc_news_df[bbc_news_df['dataset_type']=='test'], left_on='doc_key', right_on='doc_key')\n",
    "\n",
    "        y_true_train = evaluation_train['class_name']\n",
    "        y_pred_train = evaluation_train['most_similar_label']\n",
    "\n",
    "        y_true_test = evaluation_test['class_name']\n",
    "        y_pred_test = evaluation_test['most_similar_label']\n",
    "\n",
    "        f1_scores_train = f1_score(y_true_train, y_pred_train, average=None)\n",
    "        f1_scores_test = f1_score(y_true_test, y_pred_test, average=None)\n",
    "\n",
    "        f1_train_scores.append(f1_scores_train)\n",
    "        f1_test_scores.append(f1_scores_test)\n",
    "\n",
    "        print(f'Iteration {iter+1}/{n_iterations} - F1 score on train set: {f1_score(y_true_train, y_pred_train, average=\"micro\")} - F1 score on test set: {f1_score(y_true_test, y_pred_test, average=\"micro\")}')\n",
    "\n",
    "    f1_train_scores = np.array(f1_train_scores).mean(axis=0)\n",
    "    f1_test_scores = np.array(f1_test_scores).mean(axis=0)\n",
    "\n",
    "    f1_scores_df = pd.DataFrame({'train': f1_train_scores, 'test': f1_test_scores})\n",
    "    f1_scores_df['class'] = f1_scores_df.index\n",
    "    return f1_scores_df\n",
    "    "
   ]
  },
  {
   "cell_type": "code",
   "execution_count": 68,
   "metadata": {},
   "outputs": [],
   "source": [
    "def plot_f1_score(score_df: pd.DataFrame):\n",
    "    f1_scores_df = score_df.melt(id_vars=['class'], var_name='dataset_type', value_name='f1_score')\n",
    "\n",
    "    avg_f1_train = f1_scores_df[f1_scores_df['dataset_type'] == 'train']['f1_score'].mean()\n",
    "    avg_f1_test = f1_scores_df[f1_scores_df['dataset_type'] == 'test']['f1_score'].mean()\n",
    "\n",
    "    fig = sns.catplot(data=f1_scores_df, x='class', y='f1_score', hue='dataset_type', kind='bar', height=5, aspect=2)\n",
    "    fig.set(xlabel='Class', ylabel='F1 score')\n",
    "    fig.fig.suptitle(f'F1 score by class (train: {round(avg_f1_train, 6)}, test: {round(avg_f1_test, 6)})')\n",
    "    fig.tight_layout()"
   ]
  },
  {
   "cell_type": "code",
   "execution_count": 69,
   "metadata": {},
   "outputs": [
    {
     "name": "stdout",
     "output_type": "stream",
     "text": [
      "Iteration 1/5 - F1 score on train set: 0.9241573033707865 - F1 score on test set: 0.9258426966292135\n",
      "Iteration 2/5 - F1 score on train set: 0.8960674157303371 - F1 score on test set: 0.9011235955056179\n",
      "Iteration 3/5 - F1 score on train set: 0.9028089887640449 - F1 score on test set: 0.903370786516854\n",
      "Iteration 4/5 - F1 score on train set: 0.9191011235955057 - F1 score on test set: 0.9191011235955057\n",
      "Iteration 5/5 - F1 score on train set: 0.9056179775280899 - F1 score on test set: 0.9078651685393259\n"
     ]
    },
    {
     "data": {
      "image/png": "[encoded data removed]",
      "text/plain": [
       "<Figure size 1101.99x500 with 1 Axes>"
      ]
     },
     "metadata": {},
     "output_type": "display_data"
    }
   ],
   "source": [
    "score_df = train_and_eval(PREDEFINED_KEYWORDS, n_iterations=5)\n",
    "plot_f1_score(score_df)"
   ]
  },
  {
   "cell_type": "markdown",
   "metadata": {},
   "source": [
    "The supposition that the model is random does not seems to be problematic on the predefined keywords."
   ]
  },
  {
   "cell_type": "code",
   "execution_count": 70,
   "metadata": {},
   "outputs": [],
   "source": [
    "classes_name = list(bbc_news_df['class_name'].unique())"
   ]
  },
  {
   "cell_type": "code",
   "execution_count": 71,
   "metadata": {},
   "outputs": [
    {
     "name": "stdout",
     "output_type": "stream",
     "text": [
      "[INFO] Processing class: entertainment...          \r"
     ]
    }
   ],
   "source": [
    "def get_all_similar_keywords_by_class(classes_name):\n",
    "    spacy_similarity_model = spacy.load('en_core_web_lg')\n",
    "    resulting_keywords = {}\n",
    "\n",
    "    all_documents_words = []\n",
    "    for doc in bbc_news_df['document']:\n",
    "        all_documents_words.extend(doc.split(' '))\n",
    "    all_documents_words = list(set(all_documents_words))\n",
    "\n",
    "    for class_name in classes_name:\n",
    "        print(f'[INFO] Processing class: {class_name}...')\n",
    "\n",
    "        similarity_levels = []\n",
    "        \n",
    "        for word in all_documents_words:\n",
    "            spacy_word_1 = spacy_similarity_model(word)\n",
    "            spacy_word_2 = spacy_similarity_model(class_name)\n",
    "\n",
    "            if(not (spacy_word_1 and spacy_word_1.vector_norm and spacy_word_2 and spacy_word_2.vector_norm)):\n",
    "                continue\n",
    "            similarity_level = spacy_word_1.similarity(spacy_word_2)\n",
    "\n",
    "            similarity_levels.append((word, similarity_level))\n",
    "\n",
    "        similarity_levels = sorted(similarity_levels, key=lambda x: x[1], reverse=True)\n",
    "        resulting_keywords[class_name] = [word for word, _ in similarity_levels]\n",
    "        \n",
    "    return resulting_keywords\n",
    "\n",
    "ALL_SIMILAR_KEYWORDS_BY_CLASS = get_all_similar_keywords_by_class(classes_name)"
   ]
  },
  {
   "cell_type": "code",
   "execution_count": 72,
   "metadata": {},
   "outputs": [],
   "source": [
    "def get_k_most_similar_keyword(k):\n",
    "    resulting_keywords = {}\n",
    "    for class_name, keywords in ALL_SIMILAR_KEYWORDS_BY_CLASS.items():\n",
    "        resulting_keywords[class_name] = keywords[:k]\n",
    "    return resulting_keywords"
   ]
  },
  {
   "cell_type": "code",
   "execution_count": 74,
   "metadata": {},
   "outputs": [
    {
     "data": {
      "text/plain": [
       "{'tech': ['tech', 'technology'],\n",
       " 'sport': ['sport', 'tennis'],\n",
       " 'politics': ['political', 'democracy'],\n",
       " 'business': ['business', 'corporate'],\n",
       " 'entertainment': ['entertainment', 'television']}"
      ]
     },
     "execution_count": 74,
     "metadata": {},
     "output_type": "execute_result"
    }
   ],
   "source": [
    "most_similar_keywords = get_k_most_similar_keyword(2)\n",
    "most_similar_keywords"
   ]
  },
  {
   "cell_type": "code",
   "execution_count": 77,
   "metadata": {},
   "outputs": [
    {
     "name": "stdout",
     "output_type": "stream",
     "text": [
      "Iteration 1/10 - F1 score on train set: 0.8337078651685393 - F1 score on test set: 0.8337078651685393\n",
      "Iteration 2/10 - F1 score on train set: 0.8140449438202247 - F1 score on test set: 0.8179775280898877\n",
      "Iteration 3/10 - F1 score on train set: 0.8758426966292135 - F1 score on test set: 0.898876404494382\n",
      "Iteration 4/10 - F1 score on train set: 0.8337078651685393 - F1 score on test set: 0.8134831460674158\n",
      "Iteration 5/10 - F1 score on train set: 0.7393258426966293 - F1 score on test set: 0.7325842696629213\n",
      "Iteration 6/10 - F1 score on train set: 0.8966292134831461 - F1 score on test set: 0.898876404494382\n",
      "Iteration 7/10 - F1 score on train set: 0.8786516853932584 - F1 score on test set: 0.8943820224719101\n",
      "Iteration 8/10 - F1 score on train set: 0.849438202247191 - F1 score on test set: 0.8449438202247193\n",
      "Iteration 9/10 - F1 score on train set: 0.8393258426966292 - F1 score on test set: 0.8202247191011236\n",
      "Iteration 10/10 - F1 score on train set: 0.8926966292134831 - F1 score on test set: 0.903370786516854\n"
     ]
    },
    {
     "data": {
      "image/png": "[encoded data removed]",
      "text/plain": [
       "<Figure size 1101.99x500 with 1 Axes>"
      ]
     },
     "metadata": {},
     "output_type": "display_data"
    }
   ],
   "source": [
    "score_df = train_and_eval(most_similar_keywords, n_iterations=10)\n",
    "plot_f1_score(score_df)"
   ]
  },
  {
   "cell_type": "markdown",
   "metadata": {},
   "source": [
    "> **Question:**\n",
    ">\n",
    "> Why the model is now random ?"
   ]
  },
  {
   "cell_type": "code",
   "execution_count": 79,
   "metadata": {},
   "outputs": [
    {
     "name": "stdout",
     "output_type": "stream",
     "text": [
      "Iteration 1/20 - F1 score on train set: 0.8674157303370787 - F1 score on test set: 0.8471910112359551\n",
      "Iteration 2/20 - F1 score on train set: 0.7724719101123596 - F1 score on test set: 0.7168539325842697\n",
      "Iteration 3/20 - F1 score on train set: 0.8252808988764045 - F1 score on test set: 0.8179775280898877\n",
      "Iteration 4/20 - F1 score on train set: 0.8775280898876404 - F1 score on test set: 0.8831460674157303\n",
      "Iteration 5/20 - F1 score on train set: 0.7825842696629214 - F1 score on test set: 0.8247191011235955\n",
      "Iteration 6/20 - F1 score on train set: 0.8550561797752809 - F1 score on test set: 0.8853932584269663\n",
      "Iteration 7/20 - F1 score on train set: 0.8584269662921349 - F1 score on test set: 0.8539325842696629\n",
      "Iteration 8/20 - F1 score on train set: 0.8134831460674158 - F1 score on test set: 0.8112359550561797\n",
      "Iteration 9/20 - F1 score on train set: 0.7707865168539326 - F1 score on test set: 0.7370786516853932\n",
      "Iteration 10/20 - F1 score on train set: 0.8808988764044944 - F1 score on test set: 0.8831460674157303\n",
      "Iteration 11/20 - F1 score on train set: 0.8943820224719101 - F1 score on test set: 0.9011235955056179\n",
      "Iteration 12/20 - F1 score on train set: 0.8095505617977529 - F1 score on test set: 0.8202247191011236\n",
      "Iteration 13/20 - F1 score on train set: 0.8421348314606741 - F1 score on test set: 0.849438202247191\n",
      "Iteration 14/20 - F1 score on train set: 0.8617977528089887 - F1 score on test set: 0.8674157303370787\n",
      "Iteration 15/20 - F1 score on train set: 0.8640449438202247 - F1 score on test set: 0.8606741573033708\n",
      "Iteration 16/20 - F1 score on train set: 0.7651685393258427 - F1 score on test set: 0.7370786516853932\n",
      "Iteration 17/20 - F1 score on train set: 0.903370786516854 - F1 score on test set: 0.9101123595505618\n",
      "Iteration 18/20 - F1 score on train set: 0.8213483146067416 - F1 score on test set: 0.8179775280898877\n",
      "Iteration 19/20 - F1 score on train set: 0.8719101123595505 - F1 score on test set: 0.8876404494382022\n",
      "Iteration 20/20 - F1 score on train set: 0.7320224719101124 - F1 score on test set: 0.6898876404494382\n"
     ]
    },
    {
     "data": {
      "image/png": "[encoded data removed]",
      "text/plain": [
       "<Figure size 1101.99x500 with 1 Axes>"
      ]
     },
     "metadata": {},
     "output_type": "display_data"
    }
   ],
   "source": [
    "score_df = train_and_eval(get_k_most_similar_keyword(10), n_iterations=20)\n",
    "plot_f1_score(score_df)"
   ]
  }
 ],
 "metadata": {
  "kernelspec": {
   "display_name": "nlp",
   "language": "python",
   "name": "python3"
  },
  "language_info": {
   "codemirror_mode": {
    "name": "ipython",
    "version": 3
   },
   "file_extension": ".py",
   "mimetype": "text/x-python",
   "name": "python",
   "nbconvert_exporter": "python",
   "pygments_lexer": "ipython3",
   "version": "3.9.18"
  },
  "orig_nbformat": 4
 },
 "nbformat": 4,
 "nbformat_minor": 2
}
