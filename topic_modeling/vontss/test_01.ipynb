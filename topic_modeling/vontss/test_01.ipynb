{
 "cells": [
  {
   "cell_type": "code",
   "execution_count": 14,
   "metadata": {},
   "outputs": [],
   "source": [
    "import sys\n",
    "sys.path.insert(0, './vONTSS/src/topicmodeling')\n",
    "from vONTSS.src.topicmodeling.model import TopicModel\n",
    "\n",
    "sys.path.append(\"..\")\n",
    "from ris_evaluation.evaluator import Evaluator\n",
    "\n",
    "import pandas as pd\n",
    "\n",
    "import matplotlib.pyplot as plt\n",
    "import seaborn as sns\n",
    "\n",
    "import warnings\n",
    "warnings.filterwarnings('ignore')"
   ]
  },
  {
   "cell_type": "code",
   "execution_count": 15,
   "metadata": {},
   "outputs": [],
   "source": [
    "documents_df = pd.read_csv('../../datasets/data/BBC_News/documents.csv')\n",
    "documents_df = documents_df\n",
    "\n",
    "documents = documents_df['document'].tolist()\n",
    "labels = documents_df['class_name'].tolist()\n",
    "\n",
    "labels_df = pd.read_csv('../../datasets/data/BBC_News/labels.csv')\n",
    "defined_keywords = [keywords.split(' ') for keywords in labels_df['class_keywords'].tolist()]"
   ]
  },
  {
   "cell_type": "markdown",
   "metadata": {},
   "source": [
    "# First test"
   ]
  },
  {
   "cell_type": "code",
   "execution_count": 16,
   "metadata": {},
   "outputs": [],
   "source": [
    "num_topic = len(set(labels))\n",
    "\n",
    "topic_model = TopicModel(numb_embeddings=num_topic)\n",
    "y_pred, y_pred_probas = topic_model.fit_transform(documents, index=defined_keywords)"
   ]
  },
  {
   "cell_type": "code",
   "execution_count": 17,
   "metadata": {},
   "outputs": [],
   "source": [
    "model_output = {}\n",
    "model_output['topics'] = [i[:topic_model.top_n_words] for i in topic_model.topics]\n",
    "model_output['topic-word-matrix'] = topic_model.model.topics.get_topics().cpu().detach().numpy()\n",
    "model_output['topic-document-matrix'] = topic_model.z.T"
   ]
  },
  {
   "cell_type": "code",
   "execution_count": 18,
   "metadata": {},
   "outputs": [
    {
     "data": {
      "text/html": [
       "<div>\n",
       "<style scoped>\n",
       "    .dataframe tbody tr th:only-of-type {\n",
       "        vertical-align: middle;\n",
       "    }\n",
       "\n",
       "    .dataframe tbody tr th {\n",
       "        vertical-align: top;\n",
       "    }\n",
       "\n",
       "    .dataframe thead th {\n",
       "        text-align: right;\n",
       "    }\n",
       "</style>\n",
       "<table border=\"1\" class=\"dataframe\">\n",
       "  <thead>\n",
       "    <tr style=\"text-align: right;\">\n",
       "      <th></th>\n",
       "      <th>document</th>\n",
       "      <th>y_true</th>\n",
       "      <th>y_pred</th>\n",
       "      <th>y_pred_highest_proba</th>\n",
       "    </tr>\n",
       "  </thead>\n",
       "  <tbody>\n",
       "    <tr>\n",
       "      <th>0</th>\n",
       "      <td>hit shelf combine medium player phone gaming g...</td>\n",
       "      <td>tech</td>\n",
       "      <td>1</td>\n",
       "      <td>0.347074</td>\n",
       "    </tr>\n",
       "    <tr>\n",
       "      <th>1</th>\n",
       "      <td>bid hope join host apply host tournament aim r...</td>\n",
       "      <td>sport</td>\n",
       "      <td>1</td>\n",
       "      <td>0.300036</td>\n",
       "    </tr>\n",
       "    <tr>\n",
       "      <th>2</th>\n",
       "      <td>lord wrong detainee straw straw attack decisio...</td>\n",
       "      <td>politics</td>\n",
       "      <td>1</td>\n",
       "      <td>0.300292</td>\n",
       "    </tr>\n",
       "    <tr>\n",
       "      <th>3</th>\n",
       "      <td>leak answer minister explain budget detail pri...</td>\n",
       "      <td>politics</td>\n",
       "      <td>1</td>\n",
       "      <td>0.295656</td>\n",
       "    </tr>\n",
       "    <tr>\n",
       "      <th>4</th>\n",
       "      <td>delight manager pay tribute goal striker beat ...</td>\n",
       "      <td>sport</td>\n",
       "      <td>2</td>\n",
       "      <td>0.350196</td>\n",
       "    </tr>\n",
       "    <tr>\n",
       "      <th>...</th>\n",
       "      <td>...</td>\n",
       "      <td>...</td>\n",
       "      <td>...</td>\n",
       "      <td>...</td>\n",
       "    </tr>\n",
       "    <tr>\n",
       "      <th>2220</th>\n",
       "      <td>rock clean steer clear bad language front awar...</td>\n",
       "      <td>entertainment</td>\n",
       "      <td>1</td>\n",
       "      <td>0.267668</td>\n",
       "    </tr>\n",
       "    <tr>\n",
       "      <th>2221</th>\n",
       "      <td>comedy meet sequel meet parent top week movie ...</td>\n",
       "      <td>entertainment</td>\n",
       "      <td>1</td>\n",
       "      <td>0.287111</td>\n",
       "    </tr>\n",
       "    <tr>\n",
       "      <th>2222</th>\n",
       "      <td>join rare group actress nominate oscar star fo...</td>\n",
       "      <td>entertainment</td>\n",
       "      <td>1</td>\n",
       "      <td>0.274932</td>\n",
       "    </tr>\n",
       "    <tr>\n",
       "      <th>2223</th>\n",
       "      <td>police chief back move chief back introduction...</td>\n",
       "      <td>politics</td>\n",
       "      <td>1</td>\n",
       "      <td>0.289337</td>\n",
       "    </tr>\n",
       "    <tr>\n",
       "      <th>2224</th>\n",
       "      <td>answer call grant extra decide compete world c...</td>\n",
       "      <td>sport</td>\n",
       "      <td>2</td>\n",
       "      <td>0.320982</td>\n",
       "    </tr>\n",
       "  </tbody>\n",
       "</table>\n",
       "<p>2225 rows × 4 columns</p>\n",
       "</div>"
      ],
      "text/plain": [
       "                                               document         y_true  \\\n",
       "0     hit shelf combine medium player phone gaming g...           tech   \n",
       "1     bid hope join host apply host tournament aim r...          sport   \n",
       "2     lord wrong detainee straw straw attack decisio...       politics   \n",
       "3     leak answer minister explain budget detail pri...       politics   \n",
       "4     delight manager pay tribute goal striker beat ...          sport   \n",
       "...                                                 ...            ...   \n",
       "2220  rock clean steer clear bad language front awar...  entertainment   \n",
       "2221  comedy meet sequel meet parent top week movie ...  entertainment   \n",
       "2222  join rare group actress nominate oscar star fo...  entertainment   \n",
       "2223  police chief back move chief back introduction...       politics   \n",
       "2224  answer call grant extra decide compete world c...          sport   \n",
       "\n",
       "      y_pred  y_pred_highest_proba  \n",
       "0          1              0.347074  \n",
       "1          1              0.300036  \n",
       "2          1              0.300292  \n",
       "3          1              0.295656  \n",
       "4          2              0.350196  \n",
       "...      ...                   ...  \n",
       "2220       1              0.267668  \n",
       "2221       1              0.287111  \n",
       "2222       1              0.274932  \n",
       "2223       1              0.289337  \n",
       "2224       2              0.320982  \n",
       "\n",
       "[2225 rows x 4 columns]"
      ]
     },
     "execution_count": 18,
     "metadata": {},
     "output_type": "execute_result"
    }
   ],
   "source": [
    "results_df = pd.DataFrame()\n",
    "results_df['document'] = documents\n",
    "results_df['y_true'] = documents_df['class_name'].tolist()\n",
    "results_df['y_pred'] = y_pred_probas.argmax(axis=1)\n",
    "results_df['y_pred_highest_proba'] = y_pred_probas.max(axis=1)\n",
    "\n",
    "results_df"
   ]
  },
  {
   "cell_type": "code",
   "execution_count": 19,
   "metadata": {},
   "outputs": [],
   "source": [
    "def get_words_for_topics(topics: list):\n",
    "    \"\"\" Returns a dictionary with the words for each topic.\n",
    "\n",
    "    Args:\n",
    "        topics (list): List of topics. \n",
    "    \n",
    "    Returns:\n",
    "        dict: Dictionary with the words for each topic.\n",
    "    \"\"\"\n",
    "    words_by_topics = {}\n",
    "    for idx, topic in enumerate(topics):\n",
    "        words = documents_df.iloc[idx]['document'].split()\n",
    "\n",
    "        if topic not in words_by_topics:\n",
    "            words_by_topics[topic] = {}\n",
    "\n",
    "        for word in words:\n",
    "            if word not in words_by_topics[topic]:\n",
    "                words_by_topics[topic][word] = 0\n",
    "\n",
    "            words_by_topics[topic][word] += 1\n",
    "\n",
    "    return words_by_topics"
   ]
  },
  {
   "cell_type": "code",
   "execution_count": 20,
   "metadata": {},
   "outputs": [],
   "source": [
    "evaluator = Evaluator(model_output)\n",
    "\n",
    "words_by_extracted_topics = get_words_for_topics(results_df['y_pred'].tolist())\n",
    "words_by_class = get_words_for_topics(results_df['y_true'].tolist())"
   ]
  },
  {
   "cell_type": "code",
   "execution_count": 21,
   "metadata": {},
   "outputs": [
    {
     "ename": "IndexError",
     "evalue": "list index out of range",
     "output_type": "error",
     "traceback": [
      "\u001b[0;31m---------------------------------------------------------------------------\u001b[0m",
      "\u001b[0;31mIndexError\u001b[0m                                Traceback (most recent call last)",
      "\u001b[1;32m/Users/yorest/Documents/code/Sinch-TMC/topic_modeling/vontss/test_01.ipynb Cell 9\u001b[0m line \u001b[0;36m3\n\u001b[1;32m      <a href='vscode-notebook-cell:/Users/yorest/Documents/code/Sinch-TMC/topic_modeling/vontss/test_01.ipynb#X11sZmlsZQ%3D%3D?line=0'>1</a>\u001b[0m coherence \u001b[39m=\u001b[39m evaluator\u001b[39m.\u001b[39mcompute_coherence()\n\u001b[1;32m      <a href='vscode-notebook-cell:/Users/yorest/Documents/code/Sinch-TMC/topic_modeling/vontss/test_01.ipynb#X11sZmlsZQ%3D%3D?line=1'>2</a>\u001b[0m diversity \u001b[39m=\u001b[39m evaluator\u001b[39m.\u001b[39mcompute_diversity()\n\u001b[0;32m----> <a href='vscode-notebook-cell:/Users/yorest/Documents/code/Sinch-TMC/topic_modeling/vontss/test_01.ipynb#X11sZmlsZQ%3D%3D?line=2'>3</a>\u001b[0m supervised_correlation \u001b[39m=\u001b[39m evaluator\u001b[39m.\u001b[39;49mcompute_supervised_correlation(words_by_extracted_topics, words_by_class)\n\u001b[1;32m      <a href='vscode-notebook-cell:/Users/yorest/Documents/code/Sinch-TMC/topic_modeling/vontss/test_01.ipynb#X11sZmlsZQ%3D%3D?line=4'>5</a>\u001b[0m metrics_df \u001b[39m=\u001b[39m pd\u001b[39m.\u001b[39mDataFrame()\n\u001b[1;32m      <a href='vscode-notebook-cell:/Users/yorest/Documents/code/Sinch-TMC/topic_modeling/vontss/test_01.ipynb#X11sZmlsZQ%3D%3D?line=6'>7</a>\u001b[0m \u001b[39mfor\u001b[39;00m coherence_type, coherence_value \u001b[39min\u001b[39;00m coherence\u001b[39m.\u001b[39mitems():\n",
      "File \u001b[0;32m~/Documents/code/Sinch-TMC/topic_modeling/vontss/../ris_evaluation/evaluator.py:120\u001b[0m, in \u001b[0;36mEvaluator.compute_supervised_correlation\u001b[0;34m(self, words_by_extracted_topics, words_by_class)\u001b[0m\n\u001b[1;32m    117\u001b[0m assignment_similarity \u001b[39m=\u001b[39m {}\n\u001b[1;32m    119\u001b[0m \u001b[39mfor\u001b[39;00m extracted_topic_idx, true_topic_idx \u001b[39min\u001b[39;00m \u001b[39mzip\u001b[39m(row_indices, col_indices):\n\u001b[0;32m--> 120\u001b[0m     assignment_similarity[true_topic_labels[true_topic_idx]] \u001b[39m=\u001b[39m similarity_matrix[true_topic_idx][extracted_topic_idx]\n\u001b[1;32m    122\u001b[0m supervised_correlation \u001b[39m=\u001b[39m \u001b[39msum\u001b[39m(assignment_similarity\u001b[39m.\u001b[39mvalues()) \u001b[39m/\u001b[39m \u001b[39mlen\u001b[39m(assignment_similarity\u001b[39m.\u001b[39mvalues())\n\u001b[1;32m    123\u001b[0m \u001b[39mreturn\u001b[39;00m supervised_correlation\n",
      "\u001b[0;31mIndexError\u001b[0m: list index out of range"
     ]
    }
   ],
   "source": [
    "coherence = evaluator.compute_coherence()\n",
    "diversity = evaluator.compute_diversity()\n",
    "supervised_correlation = evaluator.compute_supervised_correlation(words_by_extracted_topics, words_by_class)\n",
    "\n",
    "metrics_df = pd.DataFrame()\n",
    "\n",
    "for coherence_type, coherence_value in coherence.items():\n",
    "    metrics_df[f'Coherence ({coherence_type})'] = [coherence_value]\n",
    "metrics_df['Diversity'] = [diversity]\n",
    "metrics_df['Supervised correlation'] = [supervised_correlation]\n",
    "metrics_df"
   ]
  },
  {
   "cell_type": "markdown",
   "metadata": {},
   "source": [
    "# Most important words"
   ]
  },
  {
   "cell_type": "code",
   "execution_count": null,
   "metadata": {},
   "outputs": [
    {
     "name": "stdout",
     "output_type": "stream",
     "text": [
      "{0}\n"
     ]
    },
    {
     "data": {
      "image/png": "[encoded data removed]",
      "text/plain": [
       "<Figure size 1200x1200 with 5 Axes>"
      ]
     },
     "metadata": {},
     "output_type": "display_data"
    }
   ],
   "source": [
    "no_top_words = 10\n",
    "x, y = 0, 0\n",
    "colors = sns.color_palette('viridis', n_colors=len(set(results_df['y_pred'].tolist())))\n",
    "\n",
    "# Plotting the important words by topics and their importance\n",
    "fig, axes = plt.subplots(2, 3, figsize=(12, 12))\n",
    "fig.suptitle('Important words by topics and their importance', fontsize=18, fontweight='bold')\n",
    "\n",
    "for topic_idx, topic in enumerate(set(results_df['y_pred'].tolist())):\n",
    "    main_words = sorted(words_by_extracted_topics[topic].items(), key=lambda x: x[1], reverse=True)[:no_top_words]\n",
    "\n",
    "    features = [x[0] for x in main_words]\n",
    "    features_values = [x[1] for x in main_words]  \n",
    "\n",
    "    ax = axes[x, y]\n",
    "    ax.set_title(f'Topic {topic_idx}', fontsize=12, fontweight='bold')\n",
    "    ax.bar(features, features_values, color=colors[topic_idx])\n",
    "    ax.set_xlabel('Words')\n",
    "    ax.set_ylabel('Importance')\n",
    "    ax.xaxis.set_ticks(features)\n",
    "    ax.set_xticklabels(features, rotation=45, ha='right')\n",
    "\n",
    "    if y == 2:\n",
    "        y = 0\n",
    "        x += 1\n",
    "    else:\n",
    "        y += 1\n",
    "\n",
    "fig.delaxes(axes[1, 2])\n",
    "fig.tight_layout(pad=2.0, rect=[-0.02, -0.02, 1.02, 1])\n",
    "fig.savefig('../../figures/vontss/important_words_by_topics.png')"
   ]
  },
  {
   "cell_type": "markdown",
   "metadata": {},
   "source": [
    "# Randomness"
   ]
  },
  {
   "cell_type": "code",
   "execution_count": 23,
   "metadata": {},
   "outputs": [
    {
     "data": {
      "text/html": [
       "<div>\n",
       "<style scoped>\n",
       "    .dataframe tbody tr th:only-of-type {\n",
       "        vertical-align: middle;\n",
       "    }\n",
       "\n",
       "    .dataframe tbody tr th {\n",
       "        vertical-align: top;\n",
       "    }\n",
       "\n",
       "    .dataframe thead th {\n",
       "        text-align: right;\n",
       "    }\n",
       "</style>\n",
       "<table border=\"1\" class=\"dataframe\">\n",
       "  <thead>\n",
       "    <tr style=\"text-align: right;\">\n",
       "      <th></th>\n",
       "      <th>Coherence (c_v)</th>\n",
       "      <th>Coherence (c_uci)</th>\n",
       "      <th>Coherence (c_npmi)</th>\n",
       "      <th>Coherence (u_mass)</th>\n",
       "      <th>Diversity</th>\n",
       "      <th>Supervised correlation</th>\n",
       "    </tr>\n",
       "  </thead>\n",
       "  <tbody>\n",
       "    <tr>\n",
       "      <th>0</th>\n",
       "      <td>0.333155</td>\n",
       "      <td>-4.725737</td>\n",
       "      <td>-0.164438</td>\n",
       "      <td>-3.385126</td>\n",
       "      <td>0.972</td>\n",
       "      <td>0.28877</td>\n",
       "    </tr>\n",
       "  </tbody>\n",
       "</table>\n",
       "</div>"
      ],
      "text/plain": [
       "   Coherence (c_v)  Coherence (c_uci)  Coherence (c_npmi)  Coherence (u_mass)  \\\n",
       "0         0.333155          -4.725737           -0.164438           -3.385126   \n",
       "\n",
       "   Diversity  Supervised correlation  \n",
       "0      0.972                 0.28877  "
      ]
     },
     "execution_count": 23,
     "metadata": {},
     "output_type": "execute_result"
    }
   ],
   "source": [
    "n_iter = 5\n",
    "metrics_df = pd.DataFrame()\n",
    "\n",
    "for iter in range(n_iter):\n",
    "    topic_model = TopicModel(numb_embeddings=num_topic)\n",
    "    y_pred, y_pred_probas = topic_model.fit_transform(documents, index=defined_keywords)\n",
    "\n",
    "    model_output = {}\n",
    "    model_output['topics'] = [i[:topic_model.top_n_words] for i in topic_model.topics]\n",
    "    model_output['topic-word-matrix'] = topic_model.model.topics.get_topics().cpu().detach().numpy()\n",
    "    model_output['topic-document-matrix'] = topic_model.z.T\n",
    "\n",
    "    results_df = pd.DataFrame()\n",
    "    results_df['document'] = documents\n",
    "    results_df['y_true'] = documents_df['class_name'].tolist()\n",
    "    results_df['y_pred'] = y_pred_probas.argmax(axis=1)\n",
    "    results_df['y_pred_highest_proba'] = y_pred_probas.max(axis=1)\n",
    "\n",
    "    evaluator = Evaluator(model_output)\n",
    "\n",
    "    words_by_extracted_topics = get_words_for_topics(results_df['y_pred'].tolist())\n",
    "    words_by_class = get_words_for_topics(results_df['y_true'].tolist())\n",
    "\n",
    "    coherence = evaluator.compute_coherence()\n",
    "    diversity = evaluator.compute_diversity()\n",
    "    supervised_correlation = evaluator.compute_supervised_correlation(words_by_extracted_topics, words_by_class)\n",
    "\n",
    "    metrics_df_iter = pd.DataFrame()\n",
    "\n",
    "    for coherence_type, coherence_value in coherence.items():\n",
    "        metrics_df_iter[f'Coherence ({coherence_type})'] = [coherence_value]\n",
    "    metrics_df_iter['Diversity'] = [diversity]\n",
    "    metrics_df_iter['Supervised correlation'] = [supervised_correlation]\n",
    "\n",
    "    metrics_df = pd.concat([metrics_df, metrics_df_iter])\n",
    "\n",
    "metrics_df = metrics_df.mean().to_frame().T\n",
    "metrics_df"
   ]
  }
 ],
 "metadata": {
  "kernelspec": {
   "display_name": "nlp",
   "language": "python",
   "name": "python3"
  },
  "language_info": {
   "codemirror_mode": {
    "name": "ipython",
    "version": 3
   },
   "file_extension": ".py",
   "mimetype": "text/x-python",
   "name": "python",
   "nbconvert_exporter": "python",
   "pygments_lexer": "ipython3",
   "version": "3.9.18"
  },
  "orig_nbformat": 4
 },
 "nbformat": 4,
 "nbformat_minor": 2
}
